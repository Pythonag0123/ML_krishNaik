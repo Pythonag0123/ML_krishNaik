{
 "cells": [
  {
   "cell_type": "code",
   "execution_count": 2,
   "id": "9d6a7fba",
   "metadata": {},
   "outputs": [],
   "source": [
    "import pandas as pd\n",
    " ###Jab tumhare paas bada data ho (jaise Excel sheet) aur tum usko filter, group, sort, ya clean karna chahti ho, toh Pandas usme help karta hai\n",
    " ###DataFrame Pandas ka ek 2D (2-dimensional) data structure hai, bilkul jaise Excel sheet ya SQL table.\n",
    " ###Series Pandas ka 1D (1-dimensional) data structure hai — ek column ya ek row jaisa."
   ]
  },
  {
   "cell_type": "code",
   "execution_count": 3,
   "id": "a3aaf1d1",
   "metadata": {},
   "outputs": [
    {
     "name": "stdout",
     "output_type": "stream",
     "text": [
      "0    1\n",
      "1    2\n",
      "2    3\n",
      "3    4\n",
      "4    5\n",
      "dtype: int64\n"
     ]
    }
   ],
   "source": [
    "#series\n",
    "data=[1,2,3,4,5]\n",
    "series=pd.Series(data)\n",
    "print(series)\n"
   ]
  },
  {
   "cell_type": "code",
   "execution_count": 4,
   "id": "3c27f69c",
   "metadata": {},
   "outputs": [
    {
     "name": "stdout",
     "output_type": "stream",
     "text": [
      "a    1\n",
      "b    2\n",
      "c    3\n",
      "dtype: int64\n"
     ]
    }
   ],
   "source": [
    "##series from dictionay elements\n",
    "data={'a':1,'b':2,'c':3}\n",
    "\n",
    "series_dict=pd.Series(data)\n",
    "print(series_dict)\n"
   ]
  },
  {
   "cell_type": "code",
   "execution_count": 5,
   "id": "dd5173b2",
   "metadata": {},
   "outputs": [
    {
     "data": {
      "text/plain": [
       "a    10\n",
       "b    20\n",
       "c    30\n",
       "dtype: int64"
      ]
     },
     "execution_count": 5,
     "metadata": {},
     "output_type": "execute_result"
    }
   ],
   "source": [
    "data=[10,20,30]\n",
    "index=['a','b','c']\n",
    "pd.Series(data,index=index)\n"
   ]
  },
  {
   "cell_type": "code",
   "execution_count": 6,
   "id": "042b18ef",
   "metadata": {},
   "outputs": [
    {
     "name": "stdout",
     "output_type": "stream",
     "text": [
      "    Name  Age       City\n",
      "0  Krish   25  Bangalore\n",
      "1   John   30   New York\n",
      "2   Jack   45    Florida\n",
      "<class 'pandas.core.frame.DataFrame'>\n"
     ]
    }
   ],
   "source": [
    "##Dataframe\n",
    "## create a dataframe from a dictionary of list\n",
    "data={\n",
    "    'Name':['Krish','John','Jack'],\n",
    "    'Age':[25,30,45],\n",
    "    'City':['Bangalore','New York','Florida']\n",
    "\n",
    "}\n",
    "df=pd.DataFrame(data)\n",
    "print(df)\n",
    "print(type(df))\n",
    "\n"
   ]
  },
  {
   "cell_type": "code",
   "execution_count": 7,
   "id": "b516d749",
   "metadata": {},
   "outputs": [
    {
     "data": {
      "text/plain": [
       "array([['Krish', 25, 'Bangalore'],\n",
       "       ['John', 30, 'New York'],\n",
       "       ['Jack', 45, 'Florida']], dtype=object)"
      ]
     },
     "execution_count": 7,
     "metadata": {},
     "output_type": "execute_result"
    }
   ],
   "source": [
    "import numpy as np\n",
    "np.array(df)"
   ]
  },
  {
   "cell_type": "code",
   "execution_count": 8,
   "id": "d2435c13",
   "metadata": {},
   "outputs": [
    {
     "name": "stdout",
     "output_type": "stream",
     "text": [
      "    Name  Age       City\n",
      "0  Krish   25  Bangalore\n",
      "1   John   32  Bangalore\n",
      "2   Jack   29  Bangalore\n",
      "3  Bappy   34  Bangalore\n",
      "<class 'pandas.core.frame.DataFrame'>\n"
     ]
    }
   ],
   "source": [
    "##create a dataframe from a list of dictionary\n",
    "data=[{'Name':'Krish','Age': 25,'City': 'Bangalore'},\n",
    "      {'Name':'John','Age': 32,'City': 'Bangalore'},\n",
    "      {'Name':'Jack','Age': 29,'City': 'Bangalore'},\n",
    "      {'Name':'Bappy','Age': 34,'City': 'Bangalore'}\n",
    "      ]\n",
    "df=pd.DataFrame(data)\n",
    "print(df)\n",
    "print(type(df))\n",
    "\n"
   ]
  },
  {
   "cell_type": "code",
   "execution_count": 10,
   "id": "2e525d96",
   "metadata": {},
   "outputs": [
    {
     "name": "stdout",
     "output_type": "stream",
     "text": [
      "      Port Name      State  Port Code            Border      Date  \\\n",
      "0       Jackman      Maine        104  US-Canada Border  Jan 2024   \n",
      "1      Porthill      Idaho       3308  US-Canada Border  Apr 2024   \n",
      "2      San Luis    Arizona       2608  US-Mexico Border  Apr 2024   \n",
      "3  Willow Creek    Montana       3325  US-Canada Border  Jan 2024   \n",
      "4       Warroad  Minnesota       3423  US-Canada Border  Jan 2024   \n",
      "\n",
      "                       Measure  Value  Latitude  Longitude  \\\n",
      "0                       Trucks   6556    45.806    -70.397   \n",
      "1                       Trucks     98    49.000   -116.499   \n",
      "2                        Buses     10    32.485   -114.782   \n",
      "3                  Pedestrians      2    49.000   -109.731   \n",
      "4  Personal Vehicle Passengers   9266    48.999    -95.377   \n",
      "\n",
      "                           Point  \n",
      "0   POINT (-70.396722 45.805661)  \n",
      "1   POINT (-116.49925 48.999861)  \n",
      "2    POINT (-114.7822222 32.485)  \n",
      "3  POINT (-109.731333 48.999972)  \n",
      "4      POINT (-95.376555 48.999)  \n"
     ]
    },
    {
     "data": {
      "text/html": [
       "<div>\n",
       "<style scoped>\n",
       "    .dataframe tbody tr th:only-of-type {\n",
       "        vertical-align: middle;\n",
       "    }\n",
       "\n",
       "    .dataframe tbody tr th {\n",
       "        vertical-align: top;\n",
       "    }\n",
       "\n",
       "    .dataframe thead th {\n",
       "        text-align: right;\n",
       "    }\n",
       "</style>\n",
       "<table border=\"1\" class=\"dataframe\">\n",
       "  <thead>\n",
       "    <tr style=\"text-align: right;\">\n",
       "      <th></th>\n",
       "      <th>Port Name</th>\n",
       "      <th>State</th>\n",
       "      <th>Port Code</th>\n",
       "      <th>Border</th>\n",
       "      <th>Date</th>\n",
       "      <th>Measure</th>\n",
       "      <th>Value</th>\n",
       "      <th>Latitude</th>\n",
       "      <th>Longitude</th>\n",
       "      <th>Point</th>\n",
       "    </tr>\n",
       "  </thead>\n",
       "  <tbody>\n",
       "    <tr>\n",
       "      <th>401561</th>\n",
       "      <td>Richford</td>\n",
       "      <td>Vermont</td>\n",
       "      <td>203</td>\n",
       "      <td>US-Canada Border</td>\n",
       "      <td>May 2025</td>\n",
       "      <td>Trucks</td>\n",
       "      <td>171</td>\n",
       "      <td>45.012</td>\n",
       "      <td>-72.589</td>\n",
       "      <td>POINT (-72.588559 45.01174)</td>\n",
       "    </tr>\n",
       "    <tr>\n",
       "      <th>401562</th>\n",
       "      <td>Port Angeles</td>\n",
       "      <td>Washington</td>\n",
       "      <td>3007</td>\n",
       "      <td>US-Canada Border</td>\n",
       "      <td>May 2025</td>\n",
       "      <td>Trucks</td>\n",
       "      <td>29</td>\n",
       "      <td>48.122</td>\n",
       "      <td>-123.431</td>\n",
       "      <td>POINT (-123.430694 48.121858)</td>\n",
       "    </tr>\n",
       "    <tr>\n",
       "      <th>401563</th>\n",
       "      <td>Nogales</td>\n",
       "      <td>Arizona</td>\n",
       "      <td>2604</td>\n",
       "      <td>US-Mexico Border</td>\n",
       "      <td>May 2025</td>\n",
       "      <td>Rail Containers Loaded</td>\n",
       "      <td>5752</td>\n",
       "      <td>31.333</td>\n",
       "      <td>-110.943</td>\n",
       "      <td>POINT (-110.942516 31.332839)</td>\n",
       "    </tr>\n",
       "    <tr>\n",
       "      <th>401564</th>\n",
       "      <td>Hansboro</td>\n",
       "      <td>North Dakota</td>\n",
       "      <td>3415</td>\n",
       "      <td>US-Canada Border</td>\n",
       "      <td>May 2025</td>\n",
       "      <td>Truck Containers Empty</td>\n",
       "      <td>4</td>\n",
       "      <td>49.000</td>\n",
       "      <td>-99.347</td>\n",
       "      <td>POINT (-99.346527 48.999583)</td>\n",
       "    </tr>\n",
       "    <tr>\n",
       "      <th>401565</th>\n",
       "      <td>Calexico East</td>\n",
       "      <td>California</td>\n",
       "      <td>2507</td>\n",
       "      <td>US-Mexico Border</td>\n",
       "      <td>May 2025</td>\n",
       "      <td>Train Passengers</td>\n",
       "      <td>22</td>\n",
       "      <td>32.673</td>\n",
       "      <td>-115.388</td>\n",
       "      <td>POINT (-115.388018 32.673389)</td>\n",
       "    </tr>\n",
       "  </tbody>\n",
       "</table>\n",
       "</div>"
      ],
      "text/plain": [
       "            Port Name         State  Port Code            Border      Date  \\\n",
       "401561       Richford       Vermont        203  US-Canada Border  May 2025   \n",
       "401562   Port Angeles    Washington       3007  US-Canada Border  May 2025   \n",
       "401563        Nogales       Arizona       2604  US-Mexico Border  May 2025   \n",
       "401564       Hansboro  North Dakota       3415  US-Canada Border  May 2025   \n",
       "401565  Calexico East    California       2507  US-Mexico Border  May 2025   \n",
       "\n",
       "                       Measure  Value  Latitude  Longitude  \\\n",
       "401561                  Trucks    171    45.012    -72.589   \n",
       "401562                  Trucks     29    48.122   -123.431   \n",
       "401563  Rail Containers Loaded   5752    31.333   -110.943   \n",
       "401564  Truck Containers Empty      4    49.000    -99.347   \n",
       "401565        Train Passengers     22    32.673   -115.388   \n",
       "\n",
       "                                Point  \n",
       "401561    POINT (-72.588559 45.01174)  \n",
       "401562  POINT (-123.430694 48.121858)  \n",
       "401563  POINT (-110.942516 31.332839)  \n",
       "401564   POINT (-99.346527 48.999583)  \n",
       "401565  POINT (-115.388018 32.673389)  "
      ]
     },
     "execution_count": 10,
     "metadata": {},
     "output_type": "execute_result"
    }
   ],
   "source": [
    "data=pd.read_csv(\"/workspaces/ML_krishNaik/data analysis/data/Border_Crossing_Entry_Data.csv\")\n",
    "dFrame=pd.DataFrame(data)\n",
    "print(dFrame.head())\n",
    "dFrame.tail()"
   ]
  },
  {
   "cell_type": "code",
   "execution_count": 12,
   "id": "95f47eb1",
   "metadata": {},
   "outputs": [
    {
     "data": {
      "text/plain": [
       "pandas.core.series.Series"
      ]
     },
     "execution_count": 12,
     "metadata": {},
     "output_type": "execute_result"
    }
   ],
   "source": [
    "dFrame['Port Name']\n",
    "type(dFrame['Port Name'])"
   ]
  },
  {
   "cell_type": "code",
   "execution_count": 14,
   "id": "6b78b82f",
   "metadata": {},
   "outputs": [
    {
     "data": {
      "text/plain": [
       "Port Name                         Jackman\n",
       "State                               Maine\n",
       "Port Code                             104\n",
       "Border                   US-Canada Border\n",
       "Date                             Jan 2024\n",
       "Measure                            Trucks\n",
       "Value                                6556\n",
       "Latitude                           45.806\n",
       "Longitude                         -70.397\n",
       "Point        POINT (-70.396722 45.805661)\n",
       "Name: 0, dtype: object"
      ]
     },
     "execution_count": 14,
     "metadata": {},
     "output_type": "execute_result"
    }
   ],
   "source": [
    "dFrame.loc[0]"
   ]
  },
  {
   "cell_type": "code",
   "execution_count": 15,
   "id": "aa6275c4",
   "metadata": {},
   "outputs": [
    {
     "data": {
      "text/plain": [
       "'Porthill'"
      ]
     },
     "execution_count": 15,
     "metadata": {},
     "output_type": "execute_result"
    }
   ],
   "source": [
    "dFrame.at[1,'Port Name']"
   ]
  },
  {
   "cell_type": "code",
   "execution_count": 16,
   "id": "4506bd02",
   "metadata": {},
   "outputs": [
    {
     "data": {
      "text/plain": [
       "np.int64(2608)"
      ]
     },
     "execution_count": 16,
     "metadata": {},
     "output_type": "execute_result"
    }
   ],
   "source": [
    "## accessing specified element using iat\n",
    "dFrame.iat[2,2]"
   ]
  },
  {
   "cell_type": "code",
   "execution_count": 18,
   "id": "1259033c",
   "metadata": {},
   "outputs": [
    {
     "data": {
      "text/html": [
       "<div>\n",
       "<style scoped>\n",
       "    .dataframe tbody tr th:only-of-type {\n",
       "        vertical-align: middle;\n",
       "    }\n",
       "\n",
       "    .dataframe tbody tr th {\n",
       "        vertical-align: top;\n",
       "    }\n",
       "\n",
       "    .dataframe thead th {\n",
       "        text-align: right;\n",
       "    }\n",
       "</style>\n",
       "<table border=\"1\" class=\"dataframe\">\n",
       "  <thead>\n",
       "    <tr style=\"text-align: right;\">\n",
       "      <th></th>\n",
       "      <th>Name</th>\n",
       "      <th>Age</th>\n",
       "      <th>City</th>\n",
       "      <th>Salary</th>\n",
       "    </tr>\n",
       "  </thead>\n",
       "  <tbody>\n",
       "    <tr>\n",
       "      <th>0</th>\n",
       "      <td>Krish</td>\n",
       "      <td>25</td>\n",
       "      <td>Bangalore</td>\n",
       "      <td>50000</td>\n",
       "    </tr>\n",
       "    <tr>\n",
       "      <th>1</th>\n",
       "      <td>John</td>\n",
       "      <td>32</td>\n",
       "      <td>Bangalore</td>\n",
       "      <td>60000</td>\n",
       "    </tr>\n",
       "    <tr>\n",
       "      <th>2</th>\n",
       "      <td>Jack</td>\n",
       "      <td>29</td>\n",
       "      <td>Bangalore</td>\n",
       "      <td>70000</td>\n",
       "    </tr>\n",
       "    <tr>\n",
       "      <th>3</th>\n",
       "      <td>Bappy</td>\n",
       "      <td>34</td>\n",
       "      <td>Bangalore</td>\n",
       "      <td>80000</td>\n",
       "    </tr>\n",
       "  </tbody>\n",
       "</table>\n",
       "</div>"
      ],
      "text/plain": [
       "    Name  Age       City  Salary\n",
       "0  Krish   25  Bangalore   50000\n",
       "1   John   32  Bangalore   60000\n",
       "2   Jack   29  Bangalore   70000\n",
       "3  Bappy   34  Bangalore   80000"
      ]
     },
     "execution_count": 18,
     "metadata": {},
     "output_type": "execute_result"
    }
   ],
   "source": [
    "df['Salary']=[50000,60000,70000,80000]\n",
    "df"
   ]
  },
  {
   "cell_type": "code",
   "execution_count": 21,
   "id": "c10218b6",
   "metadata": {},
   "outputs": [],
   "source": [
    "df.drop('Salary',axis=1,inplace=True)\n",
    "\n",
    "\n"
   ]
  },
  {
   "cell_type": "code",
   "execution_count": 22,
   "id": "04ac2c02",
   "metadata": {},
   "outputs": [
    {
     "data": {
      "text/html": [
       "<div>\n",
       "<style scoped>\n",
       "    .dataframe tbody tr th:only-of-type {\n",
       "        vertical-align: middle;\n",
       "    }\n",
       "\n",
       "    .dataframe tbody tr th {\n",
       "        vertical-align: top;\n",
       "    }\n",
       "\n",
       "    .dataframe thead th {\n",
       "        text-align: right;\n",
       "    }\n",
       "</style>\n",
       "<table border=\"1\" class=\"dataframe\">\n",
       "  <thead>\n",
       "    <tr style=\"text-align: right;\">\n",
       "      <th></th>\n",
       "      <th>Name</th>\n",
       "      <th>Age</th>\n",
       "      <th>City</th>\n",
       "    </tr>\n",
       "  </thead>\n",
       "  <tbody>\n",
       "    <tr>\n",
       "      <th>0</th>\n",
       "      <td>Krish</td>\n",
       "      <td>25</td>\n",
       "      <td>Bangalore</td>\n",
       "    </tr>\n",
       "    <tr>\n",
       "      <th>1</th>\n",
       "      <td>John</td>\n",
       "      <td>32</td>\n",
       "      <td>Bangalore</td>\n",
       "    </tr>\n",
       "    <tr>\n",
       "      <th>2</th>\n",
       "      <td>Jack</td>\n",
       "      <td>29</td>\n",
       "      <td>Bangalore</td>\n",
       "    </tr>\n",
       "    <tr>\n",
       "      <th>3</th>\n",
       "      <td>Bappy</td>\n",
       "      <td>34</td>\n",
       "      <td>Bangalore</td>\n",
       "    </tr>\n",
       "  </tbody>\n",
       "</table>\n",
       "</div>"
      ],
      "text/plain": [
       "    Name  Age       City\n",
       "0  Krish   25  Bangalore\n",
       "1   John   32  Bangalore\n",
       "2   Jack   29  Bangalore\n",
       "3  Bappy   34  Bangalore"
      ]
     },
     "execution_count": 22,
     "metadata": {},
     "output_type": "execute_result"
    }
   ],
   "source": [
    "df"
   ]
  },
  {
   "cell_type": "code",
   "execution_count": 24,
   "id": "1ef6dcbb",
   "metadata": {},
   "outputs": [
    {
     "data": {
      "text/html": [
       "<div>\n",
       "<style scoped>\n",
       "    .dataframe tbody tr th:only-of-type {\n",
       "        vertical-align: middle;\n",
       "    }\n",
       "\n",
       "    .dataframe tbody tr th {\n",
       "        vertical-align: top;\n",
       "    }\n",
       "\n",
       "    .dataframe thead th {\n",
       "        text-align: right;\n",
       "    }\n",
       "</style>\n",
       "<table border=\"1\" class=\"dataframe\">\n",
       "  <thead>\n",
       "    <tr style=\"text-align: right;\">\n",
       "      <th></th>\n",
       "      <th>Name</th>\n",
       "      <th>Age</th>\n",
       "      <th>City</th>\n",
       "    </tr>\n",
       "  </thead>\n",
       "  <tbody>\n",
       "    <tr>\n",
       "      <th>0</th>\n",
       "      <td>Krish</td>\n",
       "      <td>27</td>\n",
       "      <td>Bangalore</td>\n",
       "    </tr>\n",
       "    <tr>\n",
       "      <th>1</th>\n",
       "      <td>John</td>\n",
       "      <td>34</td>\n",
       "      <td>Bangalore</td>\n",
       "    </tr>\n",
       "    <tr>\n",
       "      <th>2</th>\n",
       "      <td>Jack</td>\n",
       "      <td>31</td>\n",
       "      <td>Bangalore</td>\n",
       "    </tr>\n",
       "    <tr>\n",
       "      <th>3</th>\n",
       "      <td>Bappy</td>\n",
       "      <td>36</td>\n",
       "      <td>Bangalore</td>\n",
       "    </tr>\n",
       "  </tbody>\n",
       "</table>\n",
       "</div>"
      ],
      "text/plain": [
       "    Name  Age       City\n",
       "0  Krish   27  Bangalore\n",
       "1   John   34  Bangalore\n",
       "2   Jack   31  Bangalore\n",
       "3  Bappy   36  Bangalore"
      ]
     },
     "execution_count": 24,
     "metadata": {},
     "output_type": "execute_result"
    }
   ],
   "source": [
    "df['Age']=df['Age']+1\n",
    "df"
   ]
  },
  {
   "cell_type": "code",
   "execution_count": 25,
   "id": "82c4b800",
   "metadata": {},
   "outputs": [
    {
     "data": {
      "text/html": [
       "<div>\n",
       "<style scoped>\n",
       "    .dataframe tbody tr th:only-of-type {\n",
       "        vertical-align: middle;\n",
       "    }\n",
       "\n",
       "    .dataframe tbody tr th {\n",
       "        vertical-align: top;\n",
       "    }\n",
       "\n",
       "    .dataframe thead th {\n",
       "        text-align: right;\n",
       "    }\n",
       "</style>\n",
       "<table border=\"1\" class=\"dataframe\">\n",
       "  <thead>\n",
       "    <tr style=\"text-align: right;\">\n",
       "      <th></th>\n",
       "      <th>Port Code</th>\n",
       "      <th>Value</th>\n",
       "      <th>Latitude</th>\n",
       "      <th>Longitude</th>\n",
       "    </tr>\n",
       "  </thead>\n",
       "  <tbody>\n",
       "    <tr>\n",
       "      <th>count</th>\n",
       "      <td>401566.000000</td>\n",
       "      <td>4.015660e+05</td>\n",
       "      <td>401566.000000</td>\n",
       "      <td>401566.000000</td>\n",
       "    </tr>\n",
       "    <tr>\n",
       "      <th>mean</th>\n",
       "      <td>2445.643473</td>\n",
       "      <td>2.900088e+04</td>\n",
       "      <td>43.963519</td>\n",
       "      <td>-99.713359</td>\n",
       "    </tr>\n",
       "    <tr>\n",
       "      <th>std</th>\n",
       "      <td>1204.390459</td>\n",
       "      <td>1.494647e+05</td>\n",
       "      <td>8.153385</td>\n",
       "      <td>18.259062</td>\n",
       "    </tr>\n",
       "    <tr>\n",
       "      <th>min</th>\n",
       "      <td>101.000000</td>\n",
       "      <td>0.000000e+00</td>\n",
       "      <td>25.952000</td>\n",
       "      <td>-141.001000</td>\n",
       "    </tr>\n",
       "    <tr>\n",
       "      <th>25%</th>\n",
       "      <td>2304.000000</td>\n",
       "      <td>0.000000e+00</td>\n",
       "      <td>42.999000</td>\n",
       "      <td>-114.728000</td>\n",
       "    </tr>\n",
       "    <tr>\n",
       "      <th>50%</th>\n",
       "      <td>3012.000000</td>\n",
       "      <td>1.500000e+02</td>\n",
       "      <td>48.122000</td>\n",
       "      <td>-101.628000</td>\n",
       "    </tr>\n",
       "    <tr>\n",
       "      <th>75%</th>\n",
       "      <td>3401.000000</td>\n",
       "      <td>3.056000e+03</td>\n",
       "      <td>49.000000</td>\n",
       "      <td>-84.361000</td>\n",
       "    </tr>\n",
       "    <tr>\n",
       "      <th>max</th>\n",
       "      <td>3814.000000</td>\n",
       "      <td>4.447374e+06</td>\n",
       "      <td>62.615000</td>\n",
       "      <td>-66.980000</td>\n",
       "    </tr>\n",
       "  </tbody>\n",
       "</table>\n",
       "</div>"
      ],
      "text/plain": [
       "           Port Code         Value       Latitude      Longitude\n",
       "count  401566.000000  4.015660e+05  401566.000000  401566.000000\n",
       "mean     2445.643473  2.900088e+04      43.963519     -99.713359\n",
       "std      1204.390459  1.494647e+05       8.153385      18.259062\n",
       "min       101.000000  0.000000e+00      25.952000    -141.001000\n",
       "25%      2304.000000  0.000000e+00      42.999000    -114.728000\n",
       "50%      3012.000000  1.500000e+02      48.122000    -101.628000\n",
       "75%      3401.000000  3.056000e+03      49.000000     -84.361000\n",
       "max      3814.000000  4.447374e+06      62.615000     -66.980000"
      ]
     },
     "execution_count": 25,
     "metadata": {},
     "output_type": "execute_result"
    }
   ],
   "source": [
    "dFrame.describe()"
   ]
  },
  {
   "cell_type": "code",
   "execution_count": null,
   "id": "df521be5",
   "metadata": {},
   "outputs": [],
   "source": []
  }
 ],
 "metadata": {
  "kernelspec": {
   "display_name": "Python 3",
   "language": "python",
   "name": "python3"
  },
  "language_info": {
   "codemirror_mode": {
    "name": "ipython",
    "version": 3
   },
   "file_extension": ".py",
   "mimetype": "text/x-python",
   "name": "python",
   "nbconvert_exporter": "python",
   "pygments_lexer": "ipython3",
   "version": "3.12.1"
  }
 },
 "nbformat": 4,
 "nbformat_minor": 5
}
